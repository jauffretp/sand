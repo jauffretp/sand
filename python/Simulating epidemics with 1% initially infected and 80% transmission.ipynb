{
 "cells": [
  {
   "cell_type": "markdown",
   "metadata": {
    "deletable": true,
    "editable": true
   },
   "source": [
    "### List of dependencies\n",
    "- networkx\n",
    "- pandas\n",
    "- numpy\n",
    "- matplotlib\n",
    "- community : you can download it [here](https://bitbucket.org/taynaud/python-louvain/get/6a3696fdce57.zip), then just do  : `sudo python3 setup.py install`\n",
    " "
   ]
  },
  {
   "cell_type": "code",
   "execution_count": 1,
   "metadata": {
    "collapsed": false,
    "deletable": true,
    "editable": true
   },
   "outputs": [],
   "source": [
    "import pandas as pd\n",
    "import numpy as np\n",
    "import community\n",
    "\n",
    "#import seaborn as sns\n",
    "import matplotlib.pyplot as plt\n",
    "import networkx as nx\n",
    "import random\n",
    "import community\n",
    "%matplotlib inline"
   ]
  },
  {
   "cell_type": "code",
   "execution_count": 2,
   "metadata": {
    "collapsed": true,
    "deletable": true,
    "editable": true
   },
   "outputs": [],
   "source": [
    "df = pd.read_csv(\"../data/dataset.CSV\", sep=\";\")"
   ]
  },
  {
   "cell_type": "code",
   "execution_count": 3,
   "metadata": {
    "collapsed": false,
    "deletable": true,
    "editable": true
   },
   "outputs": [
    {
     "data": {
      "text/html": [
       "<div>\n",
       "<table border=\"1\" class=\"dataframe\">\n",
       "  <thead>\n",
       "    <tr style=\"text-align: right;\">\n",
       "      <th></th>\n",
       "      <th>female_id</th>\n",
       "      <th>male_id</th>\n",
       "      <th>date</th>\n",
       "      <th>female_grade</th>\n",
       "      <th>anal</th>\n",
       "      <th>oral</th>\n",
       "      <th>kiss</th>\n",
       "    </tr>\n",
       "  </thead>\n",
       "  <tbody>\n",
       "    <tr>\n",
       "      <th>count</th>\n",
       "      <td>50632.000000</td>\n",
       "      <td>50632.000000</td>\n",
       "      <td>50632.000000</td>\n",
       "      <td>50632.000000</td>\n",
       "      <td>50632.000000</td>\n",
       "      <td>50632.000000</td>\n",
       "      <td>50632.000000</td>\n",
       "    </tr>\n",
       "    <tr>\n",
       "      <th>mean</th>\n",
       "      <td>6674.964074</td>\n",
       "      <td>6497.960045</td>\n",
       "      <td>1561.542878</td>\n",
       "      <td>0.742692</td>\n",
       "      <td>0.300758</td>\n",
       "      <td>0.665192</td>\n",
       "      <td>0.629957</td>\n",
       "    </tr>\n",
       "    <tr>\n",
       "      <th>std</th>\n",
       "      <td>4599.308794</td>\n",
       "      <td>4544.051880</td>\n",
       "      <td>444.996668</td>\n",
       "      <td>0.604601</td>\n",
       "      <td>0.817198</td>\n",
       "      <td>0.696622</td>\n",
       "      <td>0.696743</td>\n",
       "    </tr>\n",
       "    <tr>\n",
       "      <th>min</th>\n",
       "      <td>0.000000</td>\n",
       "      <td>1.000000</td>\n",
       "      <td>0.000000</td>\n",
       "      <td>-1.000000</td>\n",
       "      <td>-1.000000</td>\n",
       "      <td>-1.000000</td>\n",
       "      <td>-1.000000</td>\n",
       "    </tr>\n",
       "    <tr>\n",
       "      <th>25%</th>\n",
       "      <td>2813.000000</td>\n",
       "      <td>2422.250000</td>\n",
       "      <td>1238.000000</td>\n",
       "      <td>1.000000</td>\n",
       "      <td>0.000000</td>\n",
       "      <td>1.000000</td>\n",
       "      <td>1.000000</td>\n",
       "    </tr>\n",
       "    <tr>\n",
       "      <th>50%</th>\n",
       "      <td>6235.000000</td>\n",
       "      <td>5766.000000</td>\n",
       "      <td>1617.000000</td>\n",
       "      <td>1.000000</td>\n",
       "      <td>1.000000</td>\n",
       "      <td>1.000000</td>\n",
       "      <td>1.000000</td>\n",
       "    </tr>\n",
       "    <tr>\n",
       "      <th>75%</th>\n",
       "      <td>10496.000000</td>\n",
       "      <td>10111.250000</td>\n",
       "      <td>1933.000000</td>\n",
       "      <td>1.000000</td>\n",
       "      <td>1.000000</td>\n",
       "      <td>1.000000</td>\n",
       "      <td>1.000000</td>\n",
       "    </tr>\n",
       "    <tr>\n",
       "      <th>max</th>\n",
       "      <td>16728.000000</td>\n",
       "      <td>16729.000000</td>\n",
       "      <td>2232.000000</td>\n",
       "      <td>1.000000</td>\n",
       "      <td>1.000000</td>\n",
       "      <td>1.000000</td>\n",
       "      <td>1.000000</td>\n",
       "    </tr>\n",
       "  </tbody>\n",
       "</table>\n",
       "</div>"
      ],
      "text/plain": [
       "          female_id       male_id          date  female_grade          anal  \\\n",
       "count  50632.000000  50632.000000  50632.000000  50632.000000  50632.000000   \n",
       "mean    6674.964074   6497.960045   1561.542878      0.742692      0.300758   \n",
       "std     4599.308794   4544.051880    444.996668      0.604601      0.817198   \n",
       "min        0.000000      1.000000      0.000000     -1.000000     -1.000000   \n",
       "25%     2813.000000   2422.250000   1238.000000      1.000000      0.000000   \n",
       "50%     6235.000000   5766.000000   1617.000000      1.000000      1.000000   \n",
       "75%    10496.000000  10111.250000   1933.000000      1.000000      1.000000   \n",
       "max    16728.000000  16729.000000   2232.000000      1.000000      1.000000   \n",
       "\n",
       "               oral          kiss  \n",
       "count  50632.000000  50632.000000  \n",
       "mean       0.665192      0.629957  \n",
       "std        0.696622      0.696743  \n",
       "min       -1.000000     -1.000000  \n",
       "25%        1.000000      1.000000  \n",
       "50%        1.000000      1.000000  \n",
       "75%        1.000000      1.000000  \n",
       "max        1.000000      1.000000  "
      ]
     },
     "execution_count": 3,
     "metadata": {},
     "output_type": "execute_result"
    }
   ],
   "source": [
    "df.describe()"
   ]
  },
  {
   "cell_type": "markdown",
   "metadata": {
    "deletable": true,
    "editable": true
   },
   "source": [
    "### We add an offset to male id in order to not have the same ids in male and female "
   ]
  },
  {
   "cell_type": "code",
   "execution_count": 4,
   "metadata": {
    "collapsed": false,
    "deletable": true,
    "editable": true
   },
   "outputs": [],
   "source": [
    "offset_male_id = max(df[\"female_id\"]) + 10000\n",
    "df[\"male_id\"] = df[\"male_id\"] + offset_male_id"
   ]
  },
  {
   "cell_type": "markdown",
   "metadata": {
    "collapsed": true,
    "deletable": true,
    "editable": true
   },
   "source": [
    "### Let's create the graph, we are going to use Multi Graph because we may have multiple edges between the same escort and client"
   ]
  },
  {
   "cell_type": "code",
   "execution_count": 5,
   "metadata": {
    "collapsed": true,
    "deletable": true,
    "editable": true
   },
   "outputs": [],
   "source": [
    "G = nx.MultiGraph()"
   ]
  },
  {
   "cell_type": "code",
   "execution_count": 6,
   "metadata": {
    "collapsed": true,
    "deletable": true,
    "editable": true
   },
   "outputs": [],
   "source": [
    "list_male_id = df[\"male_id\"].unique()\n",
    "list_female_id = df[\"female_id\"].unique()\n"
   ]
  },
  {
   "cell_type": "markdown",
   "metadata": {
    "deletable": true,
    "editable": true
   },
   "source": [
    "### Be sure that there is no intersection between ids"
   ]
  },
  {
   "cell_type": "code",
   "execution_count": 7,
   "metadata": {
    "collapsed": false,
    "deletable": true,
    "editable": true
   },
   "outputs": [
    {
     "data": {
      "text/plain": [
       "0"
      ]
     },
     "execution_count": 7,
     "metadata": {},
     "output_type": "execute_result"
    }
   ],
   "source": [
    "len(set(list_male_id).intersection(set(list_female_id)))"
   ]
  },
  {
   "cell_type": "code",
   "execution_count": 8,
   "metadata": {
    "collapsed": false,
    "deletable": true,
    "editable": true
   },
   "outputs": [
    {
     "name": "stdout",
     "output_type": "stream",
     "text": [
      "10106  different clients\n"
     ]
    }
   ],
   "source": [
    "print(len(list_male_id), \" different clients\")"
   ]
  },
  {
   "cell_type": "code",
   "execution_count": 9,
   "metadata": {
    "collapsed": false,
    "deletable": true,
    "editable": true
   },
   "outputs": [
    {
     "name": "stdout",
     "output_type": "stream",
     "text": [
      "6624  different escort\n"
     ]
    }
   ],
   "source": [
    "print(len(list_female_id), \" different escort\")"
   ]
  },
  {
   "cell_type": "code",
   "execution_count": 10,
   "metadata": {
    "collapsed": true
   },
   "outputs": [],
   "source": [
    "full_node_list = list(list_female_id) + list(list_male_id)"
   ]
  },
  {
   "cell_type": "code",
   "execution_count": 11,
   "metadata": {
    "collapsed": true,
    "deletable": true,
    "editable": true
   },
   "outputs": [],
   "source": [
    "G.add_nodes_from(list_male_id, role=\"client\",status=\"clean\")\n",
    "G.add_nodes_from(list_female_id, role=\"escort\",status=\"clean\")"
   ]
  },
  {
   "cell_type": "markdown",
   "metadata": {},
   "source": [
    "### We simulate a basic model of infection"
   ]
  },
  {
   "cell_type": "code",
   "execution_count": 12,
   "metadata": {
    "collapsed": false
   },
   "outputs": [],
   "source": [
    "proba_transmission = 0.8\n",
    "coeff_initial_infected = 0.01\n",
    "n_initially_infected = int(G.number_of_nodes() * coeff_initial_infected)\n",
    "initially_infected = random.sample(population=full_node_list, k=n_initially_infected)\n",
    "\n",
    "\n",
    "value_dict = {}\n",
    "for node in initially_infected:\n",
    "    value_dict[node] = \"infected\"\n",
    "\n",
    "nx.set_node_attributes(G, \"status\", value_dict)"
   ]
  },
  {
   "cell_type": "code",
   "execution_count": 21,
   "metadata": {
    "collapsed": false
   },
   "outputs": [],
   "source": [
    "def print_stat_inf(G, display=False):\n",
    "    number_of_nodes = G.number_of_nodes()\n",
    "    number_infected = 0\n",
    "    \n",
    "    for node, data in G.nodes_iter(data=True):\n",
    "        if data[\"status\"] == \"infected\":\n",
    "            number_infected += 1\n",
    "    if display==True:\n",
    "        print(\"Number of infected : \",number_infected)\n",
    "        print(number_infected/number_of_nodes * 100,\" % of the population infected\")\n",
    "    return number_infected"
   ]
  },
  {
   "cell_type": "code",
   "execution_count": 22,
   "metadata": {
    "collapsed": false
   },
   "outputs": [
    {
     "name": "stdout",
     "output_type": "stream",
     "text": [
      "Number of infected :  12280\n",
      "73.40107591153617  % of the population infected\n"
     ]
    }
   ],
   "source": [
    "number_infected = print_stat_inf(G, display=True)"
   ]
  },
  {
   "cell_type": "code",
   "execution_count": 15,
   "metadata": {
    "collapsed": false,
    "deletable": true,
    "editable": true
   },
   "outputs": [
    {
     "name": "stdout",
     "output_type": "stream",
     "text": [
      "Added  0  edges\n",
      "Added  3000  edges\n",
      "Added  6000  edges\n",
      "Added  9000  edges\n",
      "Added  12000  edges\n",
      "Added  15000  edges\n",
      "Added  18000  edges\n",
      "Added  21000  edges\n",
      "Added  24000  edges\n",
      "Added  27000  edges\n",
      "Added  30000  edges\n",
      "Added  33000  edges\n",
      "Added  36000  edges\n",
      "Added  39000  edges\n",
      "Added  42000  edges\n",
      "Added  45000  edges\n",
      "Added  48000  edges\n",
      "CPU times: user 2min 37s, sys: 124 ms, total: 2min 37s\n",
      "Wall time: 2min 37s\n"
     ]
    }
   ],
   "source": [
    "%%time\n",
    "\n",
    "date_list = []\n",
    "infected_list = []\n",
    "\n",
    "for index, row in df.iterrows():\n",
    "    if index % 3000 == 0:\n",
    "        print(\"Added \", index, \" edges\")\n",
    "    \n",
    "    #extract data from network\n",
    "    female_id = row[\"female_id\"]\n",
    "    male_id = row[\"male_id\"]\n",
    "    status_male = G.node[male_id][\"status\"]\n",
    "    status_female = G.node[female_id][\"status\"]\n",
    "    date = row[\"date\"]\n",
    "    \n",
    "    #check for transmission with proba_transmission\n",
    "    if (status_male==\"infected\") and (status_female==\"clean\"):\n",
    "        toss = random.uniform(0, 1)\n",
    "        if toss < proba_transmission:\n",
    "            G.node[female_id][\"status\"] = \"infected\"\n",
    "    \n",
    "    elif (status_female==\"infected\") and (status_male==\"clean\"):\n",
    "        toss = random.uniform(0, 1)\n",
    "        if toss < proba_transmission:\n",
    "            G.node[male_id][\"status\"] = \"infected\"\n",
    "    \n",
    "    number_infected = print_stat_inf(G)\n",
    "    date_list.append(date)\n",
    "    infected_list.append(number_infected)\n",
    "    \n",
    "    \n",
    "    G.add_edge(row[\"female_id\"], row[\"male_id\"])\n",
    "    \n"
   ]
  },
  {
   "cell_type": "code",
   "execution_count": 16,
   "metadata": {
    "collapsed": true
   },
   "outputs": [],
   "source": [
    "df_infection = pd.DataFrame()\n",
    "df_infection[\"date\"] = date_list\n",
    "df_infection[\"nb_infecte\"] = infected_list"
   ]
  },
  {
   "cell_type": "code",
   "execution_count": 23,
   "metadata": {
    "collapsed": true
   },
   "outputs": [],
   "source": [
    "groupby_date = df_infection.groupby(\"date\").max()"
   ]
  },
  {
   "cell_type": "code",
   "execution_count": 24,
   "metadata": {
    "collapsed": false
   },
   "outputs": [
    {
     "data": {
      "text/html": [
       "<div>\n",
       "<table border=\"1\" class=\"dataframe\">\n",
       "  <thead>\n",
       "    <tr style=\"text-align: right;\">\n",
       "      <th></th>\n",
       "      <th>nb_infecte</th>\n",
       "    </tr>\n",
       "    <tr>\n",
       "      <th>date</th>\n",
       "      <th></th>\n",
       "    </tr>\n",
       "  </thead>\n",
       "  <tbody>\n",
       "    <tr>\n",
       "      <th>0</th>\n",
       "      <td>167</td>\n",
       "    </tr>\n",
       "    <tr>\n",
       "      <th>21</th>\n",
       "      <td>167</td>\n",
       "    </tr>\n",
       "    <tr>\n",
       "      <th>47</th>\n",
       "      <td>167</td>\n",
       "    </tr>\n",
       "    <tr>\n",
       "      <th>73</th>\n",
       "      <td>167</td>\n",
       "    </tr>\n",
       "    <tr>\n",
       "      <th>105</th>\n",
       "      <td>167</td>\n",
       "    </tr>\n",
       "    <tr>\n",
       "      <th>121</th>\n",
       "      <td>167</td>\n",
       "    </tr>\n",
       "    <tr>\n",
       "      <th>124</th>\n",
       "      <td>167</td>\n",
       "    </tr>\n",
       "    <tr>\n",
       "      <th>126</th>\n",
       "      <td>167</td>\n",
       "    </tr>\n",
       "    <tr>\n",
       "      <th>168</th>\n",
       "      <td>167</td>\n",
       "    </tr>\n",
       "    <tr>\n",
       "      <th>171</th>\n",
       "      <td>167</td>\n",
       "    </tr>\n",
       "    <tr>\n",
       "      <th>172</th>\n",
       "      <td>167</td>\n",
       "    </tr>\n",
       "    <tr>\n",
       "      <th>179</th>\n",
       "      <td>167</td>\n",
       "    </tr>\n",
       "    <tr>\n",
       "      <th>184</th>\n",
       "      <td>167</td>\n",
       "    </tr>\n",
       "    <tr>\n",
       "      <th>185</th>\n",
       "      <td>167</td>\n",
       "    </tr>\n",
       "    <tr>\n",
       "      <th>192</th>\n",
       "      <td>167</td>\n",
       "    </tr>\n",
       "    <tr>\n",
       "      <th>193</th>\n",
       "      <td>167</td>\n",
       "    </tr>\n",
       "    <tr>\n",
       "      <th>194</th>\n",
       "      <td>167</td>\n",
       "    </tr>\n",
       "    <tr>\n",
       "      <th>204</th>\n",
       "      <td>167</td>\n",
       "    </tr>\n",
       "    <tr>\n",
       "      <th>206</th>\n",
       "      <td>167</td>\n",
       "    </tr>\n",
       "    <tr>\n",
       "      <th>207</th>\n",
       "      <td>167</td>\n",
       "    </tr>\n",
       "    <tr>\n",
       "      <th>216</th>\n",
       "      <td>167</td>\n",
       "    </tr>\n",
       "    <tr>\n",
       "      <th>217</th>\n",
       "      <td>167</td>\n",
       "    </tr>\n",
       "    <tr>\n",
       "      <th>223</th>\n",
       "      <td>167</td>\n",
       "    </tr>\n",
       "    <tr>\n",
       "      <th>229</th>\n",
       "      <td>167</td>\n",
       "    </tr>\n",
       "    <tr>\n",
       "      <th>238</th>\n",
       "      <td>167</td>\n",
       "    </tr>\n",
       "    <tr>\n",
       "      <th>243</th>\n",
       "      <td>167</td>\n",
       "    </tr>\n",
       "    <tr>\n",
       "      <th>244</th>\n",
       "      <td>167</td>\n",
       "    </tr>\n",
       "    <tr>\n",
       "      <th>245</th>\n",
       "      <td>167</td>\n",
       "    </tr>\n",
       "    <tr>\n",
       "      <th>250</th>\n",
       "      <td>167</td>\n",
       "    </tr>\n",
       "    <tr>\n",
       "      <th>252</th>\n",
       "      <td>167</td>\n",
       "    </tr>\n",
       "    <tr>\n",
       "      <th>...</th>\n",
       "      <td>...</td>\n",
       "    </tr>\n",
       "    <tr>\n",
       "      <th>2200</th>\n",
       "      <td>11930</td>\n",
       "    </tr>\n",
       "    <tr>\n",
       "      <th>2201</th>\n",
       "      <td>11941</td>\n",
       "    </tr>\n",
       "    <tr>\n",
       "      <th>2202</th>\n",
       "      <td>11954</td>\n",
       "    </tr>\n",
       "    <tr>\n",
       "      <th>2203</th>\n",
       "      <td>11969</td>\n",
       "    </tr>\n",
       "    <tr>\n",
       "      <th>2204</th>\n",
       "      <td>11984</td>\n",
       "    </tr>\n",
       "    <tr>\n",
       "      <th>2205</th>\n",
       "      <td>11994</td>\n",
       "    </tr>\n",
       "    <tr>\n",
       "      <th>2206</th>\n",
       "      <td>11997</td>\n",
       "    </tr>\n",
       "    <tr>\n",
       "      <th>2207</th>\n",
       "      <td>12008</td>\n",
       "    </tr>\n",
       "    <tr>\n",
       "      <th>2208</th>\n",
       "      <td>12027</td>\n",
       "    </tr>\n",
       "    <tr>\n",
       "      <th>2209</th>\n",
       "      <td>12034</td>\n",
       "    </tr>\n",
       "    <tr>\n",
       "      <th>2210</th>\n",
       "      <td>12048</td>\n",
       "    </tr>\n",
       "    <tr>\n",
       "      <th>2211</th>\n",
       "      <td>12060</td>\n",
       "    </tr>\n",
       "    <tr>\n",
       "      <th>2212</th>\n",
       "      <td>12072</td>\n",
       "    </tr>\n",
       "    <tr>\n",
       "      <th>2216</th>\n",
       "      <td>12072</td>\n",
       "    </tr>\n",
       "    <tr>\n",
       "      <th>2217</th>\n",
       "      <td>12102</td>\n",
       "    </tr>\n",
       "    <tr>\n",
       "      <th>2218</th>\n",
       "      <td>12127</td>\n",
       "    </tr>\n",
       "    <tr>\n",
       "      <th>2219</th>\n",
       "      <td>12137</td>\n",
       "    </tr>\n",
       "    <tr>\n",
       "      <th>2220</th>\n",
       "      <td>12145</td>\n",
       "    </tr>\n",
       "    <tr>\n",
       "      <th>2221</th>\n",
       "      <td>12157</td>\n",
       "    </tr>\n",
       "    <tr>\n",
       "      <th>2222</th>\n",
       "      <td>12168</td>\n",
       "    </tr>\n",
       "    <tr>\n",
       "      <th>2223</th>\n",
       "      <td>12181</td>\n",
       "    </tr>\n",
       "    <tr>\n",
       "      <th>2224</th>\n",
       "      <td>12195</td>\n",
       "    </tr>\n",
       "    <tr>\n",
       "      <th>2225</th>\n",
       "      <td>12212</td>\n",
       "    </tr>\n",
       "    <tr>\n",
       "      <th>2226</th>\n",
       "      <td>12225</td>\n",
       "    </tr>\n",
       "    <tr>\n",
       "      <th>2227</th>\n",
       "      <td>12237</td>\n",
       "    </tr>\n",
       "    <tr>\n",
       "      <th>2228</th>\n",
       "      <td>12247</td>\n",
       "    </tr>\n",
       "    <tr>\n",
       "      <th>2229</th>\n",
       "      <td>12260</td>\n",
       "    </tr>\n",
       "    <tr>\n",
       "      <th>2230</th>\n",
       "      <td>12272</td>\n",
       "    </tr>\n",
       "    <tr>\n",
       "      <th>2231</th>\n",
       "      <td>12280</td>\n",
       "    </tr>\n",
       "    <tr>\n",
       "      <th>2232</th>\n",
       "      <td>12280</td>\n",
       "    </tr>\n",
       "  </tbody>\n",
       "</table>\n",
       "<p>1915 rows × 1 columns</p>\n",
       "</div>"
      ],
      "text/plain": [
       "      nb_infecte\n",
       "date            \n",
       "0            167\n",
       "21           167\n",
       "47           167\n",
       "73           167\n",
       "105          167\n",
       "121          167\n",
       "124          167\n",
       "126          167\n",
       "168          167\n",
       "171          167\n",
       "172          167\n",
       "179          167\n",
       "184          167\n",
       "185          167\n",
       "192          167\n",
       "193          167\n",
       "194          167\n",
       "204          167\n",
       "206          167\n",
       "207          167\n",
       "216          167\n",
       "217          167\n",
       "223          167\n",
       "229          167\n",
       "238          167\n",
       "243          167\n",
       "244          167\n",
       "245          167\n",
       "250          167\n",
       "252          167\n",
       "...          ...\n",
       "2200       11930\n",
       "2201       11941\n",
       "2202       11954\n",
       "2203       11969\n",
       "2204       11984\n",
       "2205       11994\n",
       "2206       11997\n",
       "2207       12008\n",
       "2208       12027\n",
       "2209       12034\n",
       "2210       12048\n",
       "2211       12060\n",
       "2212       12072\n",
       "2216       12072\n",
       "2217       12102\n",
       "2218       12127\n",
       "2219       12137\n",
       "2220       12145\n",
       "2221       12157\n",
       "2222       12168\n",
       "2223       12181\n",
       "2224       12195\n",
       "2225       12212\n",
       "2226       12225\n",
       "2227       12237\n",
       "2228       12247\n",
       "2229       12260\n",
       "2230       12272\n",
       "2231       12280\n",
       "2232       12280\n",
       "\n",
       "[1915 rows x 1 columns]"
      ]
     },
     "execution_count": 24,
     "metadata": {},
     "output_type": "execute_result"
    }
   ],
   "source": [
    "groupby_date"
   ]
  },
  {
   "cell_type": "code",
   "execution_count": 30,
   "metadata": {
    "collapsed": false
   },
   "outputs": [
    {
     "data": {
      "text/plain": [
       "<matplotlib.legend.Legend at 0x7f10f5e45cf8>"
      ]
     },
     "execution_count": 30,
     "metadata": {},
     "output_type": "execute_result"
    },
    {
     "data": {
      "image/png": "[encoded data removed]",
      "text/plain": [
       "<matplotlib.figure.Figure at 0x7f10f5f1ea90>"
      ]
     },
     "metadata": {},
     "output_type": "display_data"
    }
   ],
   "source": [
    "plt.figure(figsize=(12,8))\n",
    "plt.title(\"Infection over time\")\n",
    "plt.plot(groupby_date.index, groupby_date[\"nb_infecte\"], label=\"number of infected people\")\n",
    "plt.ylabel(\"Number of infected\")\n",
    "plt.xlabel(\"Date\")\n",
    "plt.axhline(y=G.number_of_nodes(), xmin=0, xmax=3000, linewidth=2, linestyle=\"dashed\",color = 'r', label=\"Total population\")\n",
    "plt.legend(loc=4)"
   ]
  }
 ],
 "metadata": {
  "kernelspec": {
   "display_name": "Python 3",
   "language": "python",
   "name": "python3"
  },
  "language_info": {
   "codemirror_mode": {
    "name": "ipython",
    "version": 3
   },
   "file_extension": ".py",
   "mimetype": "text/x-python",
   "name": "python",
   "nbconvert_exporter": "python",
   "pygments_lexer": "ipython3",
   "version": "3.5.2"
  }
 },
 "nbformat": 4,
 "nbformat_minor": 2
}
