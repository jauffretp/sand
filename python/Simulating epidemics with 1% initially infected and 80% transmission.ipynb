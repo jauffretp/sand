{
 "cells": [
  {
   "cell_type": "markdown",
   "metadata": {
    "deletable": true,
    "editable": true
   },
   "source": [
    "### List of dependencies\n",
    "- networkx\n",
    "- pandas\n",
    "- numpy\n",
    "- matplotlib\n",
    "- community : you can download it [here](https://bitbucket.org/taynaud/python-louvain/get/6a3696fdce57.zip), then just do  : `sudo python3 setup.py install`\n",
    " "
   ]
  },
  {
   "cell_type": "code",
   "execution_count": 21,
   "metadata": {
    "collapsed": false,
    "deletable": true,
    "editable": true
   },
   "outputs": [],
   "source": [
    "import pandas as pd\n",
    "import numpy as np\n",
    "import community\n",
    "\n",
    "#import seaborn as sns\n",
    "import matplotlib.pyplot as plt\n",
    "import networkx as nx\n",
    "import random\n",
    "import community\n",
    "%matplotlib inline"
   ]
  },
  {
   "cell_type": "code",
   "execution_count": 22,
   "metadata": {
    "collapsed": true,
    "deletable": true,
    "editable": true
   },
   "outputs": [],
   "source": [
    "df = pd.read_csv(\"../data/dataset.CSV\", sep=\";\")"
   ]
  },
  {
   "cell_type": "code",
   "execution_count": 23,
   "metadata": {
    "collapsed": false,
    "deletable": true,
    "editable": true
   },
   "outputs": [
    {
     "data": {
      "text/html": [
       "<div>\n",
       "<table border=\"1\" class=\"dataframe\">\n",
       "  <thead>\n",
       "    <tr style=\"text-align: right;\">\n",
       "      <th></th>\n",
       "      <th>female_id</th>\n",
       "      <th>male_id</th>\n",
       "      <th>date</th>\n",
       "      <th>female_grade</th>\n",
       "      <th>anal</th>\n",
       "      <th>oral</th>\n",
       "      <th>kiss</th>\n",
       "    </tr>\n",
       "  </thead>\n",
       "  <tbody>\n",
       "    <tr>\n",
       "      <th>count</th>\n",
       "      <td>50632.000000</td>\n",
       "      <td>50632.000000</td>\n",
       "      <td>50632.000000</td>\n",
       "      <td>50632.000000</td>\n",
       "      <td>50632.000000</td>\n",
       "      <td>50632.000000</td>\n",
       "      <td>50632.000000</td>\n",
       "    </tr>\n",
       "    <tr>\n",
       "      <th>mean</th>\n",
       "      <td>6674.964074</td>\n",
       "      <td>6497.960045</td>\n",
       "      <td>1561.542878</td>\n",
       "      <td>0.742692</td>\n",
       "      <td>0.300758</td>\n",
       "      <td>0.665192</td>\n",
       "      <td>0.629957</td>\n",
       "    </tr>\n",
       "    <tr>\n",
       "      <th>std</th>\n",
       "      <td>4599.308794</td>\n",
       "      <td>4544.051880</td>\n",
       "      <td>444.996668</td>\n",
       "      <td>0.604601</td>\n",
       "      <td>0.817198</td>\n",
       "      <td>0.696622</td>\n",
       "      <td>0.696743</td>\n",
       "    </tr>\n",
       "    <tr>\n",
       "      <th>min</th>\n",
       "      <td>0.000000</td>\n",
       "      <td>1.000000</td>\n",
       "      <td>0.000000</td>\n",
       "      <td>-1.000000</td>\n",
       "      <td>-1.000000</td>\n",
       "      <td>-1.000000</td>\n",
       "      <td>-1.000000</td>\n",
       "    </tr>\n",
       "    <tr>\n",
       "      <th>25%</th>\n",
       "      <td>2813.000000</td>\n",
       "      <td>2422.250000</td>\n",
       "      <td>1238.000000</td>\n",
       "      <td>1.000000</td>\n",
       "      <td>0.000000</td>\n",
       "      <td>1.000000</td>\n",
       "      <td>1.000000</td>\n",
       "    </tr>\n",
       "    <tr>\n",
       "      <th>50%</th>\n",
       "      <td>6235.000000</td>\n",
       "      <td>5766.000000</td>\n",
       "      <td>1617.000000</td>\n",
       "      <td>1.000000</td>\n",
       "      <td>1.000000</td>\n",
       "      <td>1.000000</td>\n",
       "      <td>1.000000</td>\n",
       "    </tr>\n",
       "    <tr>\n",
       "      <th>75%</th>\n",
       "      <td>10496.000000</td>\n",
       "      <td>10111.250000</td>\n",
       "      <td>1933.000000</td>\n",
       "      <td>1.000000</td>\n",
       "      <td>1.000000</td>\n",
       "      <td>1.000000</td>\n",
       "      <td>1.000000</td>\n",
       "    </tr>\n",
       "    <tr>\n",
       "      <th>max</th>\n",
       "      <td>16728.000000</td>\n",
       "      <td>16729.000000</td>\n",
       "      <td>2232.000000</td>\n",
       "      <td>1.000000</td>\n",
       "      <td>1.000000</td>\n",
       "      <td>1.000000</td>\n",
       "      <td>1.000000</td>\n",
       "    </tr>\n",
       "  </tbody>\n",
       "</table>\n",
       "</div>"
      ],
      "text/plain": [
       "          female_id       male_id          date  female_grade          anal  \\\n",
       "count  50632.000000  50632.000000  50632.000000  50632.000000  50632.000000   \n",
       "mean    6674.964074   6497.960045   1561.542878      0.742692      0.300758   \n",
       "std     4599.308794   4544.051880    444.996668      0.604601      0.817198   \n",
       "min        0.000000      1.000000      0.000000     -1.000000     -1.000000   \n",
       "25%     2813.000000   2422.250000   1238.000000      1.000000      0.000000   \n",
       "50%     6235.000000   5766.000000   1617.000000      1.000000      1.000000   \n",
       "75%    10496.000000  10111.250000   1933.000000      1.000000      1.000000   \n",
       "max    16728.000000  16729.000000   2232.000000      1.000000      1.000000   \n",
       "\n",
       "               oral          kiss  \n",
       "count  50632.000000  50632.000000  \n",
       "mean       0.665192      0.629957  \n",
       "std        0.696622      0.696743  \n",
       "min       -1.000000     -1.000000  \n",
       "25%        1.000000      1.000000  \n",
       "50%        1.000000      1.000000  \n",
       "75%        1.000000      1.000000  \n",
       "max        1.000000      1.000000  "
      ]
     },
     "execution_count": 23,
     "metadata": {},
     "output_type": "execute_result"
    }
   ],
   "source": [
    "df.describe()"
   ]
  },
  {
   "cell_type": "markdown",
   "metadata": {
    "deletable": true,
    "editable": true
   },
   "source": [
    "### We add an offset to male id in order to not have the same ids in male and female "
   ]
  },
  {
   "cell_type": "code",
   "execution_count": 71,
   "metadata": {
    "collapsed": false,
    "deletable": true,
    "editable": true
   },
   "outputs": [],
   "source": [
    "offset_male_id = max(df[\"female_id\"]) + 10000\n",
    "df[\"male_id\"] = df[\"male_id\"] + offset_male_id"
   ]
  },
  {
   "cell_type": "markdown",
   "metadata": {
    "collapsed": true,
    "deletable": true,
    "editable": true
   },
   "source": [
    "### Let's create the graph, we are going to use Multi Graph because we may have multiple edges between the same escort and client"
   ]
  },
  {
   "cell_type": "code",
   "execution_count": 72,
   "metadata": {
    "collapsed": true,
    "deletable": true,
    "editable": true
   },
   "outputs": [],
   "source": [
    "G = nx.MultiGraph()"
   ]
  },
  {
   "cell_type": "code",
   "execution_count": 80,
   "metadata": {
    "collapsed": true
   },
   "outputs": [],
   "source": [
    "df_trunc = df[(df.date > 1000) & (df.date < 1800)]"
   ]
  },
  {
   "cell_type": "code",
   "execution_count": 82,
   "metadata": {
    "collapsed": false
   },
   "outputs": [
    {
     "data": {
      "text/plain": [
       "(26182, 7)"
      ]
     },
     "execution_count": 82,
     "metadata": {},
     "output_type": "execute_result"
    }
   ],
   "source": [
    "df_trunc.shape"
   ]
  },
  {
   "cell_type": "code",
   "execution_count": 83,
   "metadata": {
    "collapsed": true,
    "deletable": true,
    "editable": true
   },
   "outputs": [],
   "source": [
    "list_male_id = df_trunc[\"male_id\"].unique()\n",
    "list_female_id = df_trunc[\"female_id\"].unique()"
   ]
  },
  {
   "cell_type": "markdown",
   "metadata": {
    "deletable": true,
    "editable": true
   },
   "source": [
    "### Be sure that there is no intersection between ids"
   ]
  },
  {
   "cell_type": "code",
   "execution_count": 84,
   "metadata": {
    "collapsed": false,
    "deletable": true,
    "editable": true
   },
   "outputs": [
    {
     "data": {
      "text/plain": [
       "0"
      ]
     },
     "execution_count": 84,
     "metadata": {},
     "output_type": "execute_result"
    }
   ],
   "source": [
    "len(set(list_male_id).intersection(set(list_female_id)))"
   ]
  },
  {
   "cell_type": "code",
   "execution_count": 85,
   "metadata": {
    "collapsed": false,
    "deletable": true,
    "editable": true
   },
   "outputs": [
    {
     "name": "stdout",
     "output_type": "stream",
     "text": [
      "6191  different clients\n"
     ]
    }
   ],
   "source": [
    "print(len(list_male_id), \" different clients\")"
   ]
  },
  {
   "cell_type": "code",
   "execution_count": 86,
   "metadata": {
    "collapsed": false,
    "deletable": true,
    "editable": true
   },
   "outputs": [
    {
     "name": "stdout",
     "output_type": "stream",
     "text": [
      "4014  different escort\n"
     ]
    }
   ],
   "source": [
    "print(len(list_female_id), \" different escort\")"
   ]
  },
  {
   "cell_type": "code",
   "execution_count": 87,
   "metadata": {
    "collapsed": true
   },
   "outputs": [],
   "source": [
    "full_node_list = list(list_female_id) + list(list_male_id)"
   ]
  },
  {
   "cell_type": "code",
   "execution_count": 88,
   "metadata": {
    "collapsed": true,
    "deletable": true,
    "editable": true
   },
   "outputs": [],
   "source": [
    "G.add_nodes_from(list_male_id, role=\"client\",status=\"susceptible\")\n",
    "G.add_nodes_from(list_female_id, role=\"escort\",status=\"susceptible\")"
   ]
  },
  {
   "cell_type": "markdown",
   "metadata": {},
   "source": [
    "## SI model"
   ]
  },
  {
   "cell_type": "code",
   "execution_count": 89,
   "metadata": {
    "collapsed": false
   },
   "outputs": [],
   "source": [
    "proba_transmission = 1\n",
    "coeff_initial_infected = 0.01\n",
    "n_initially_infected = int(G.number_of_nodes() * coeff_initial_infected)\n",
    "initially_infected = random.sample(population=full_node_list, k=n_initially_infected)\n",
    "\n",
    "\n",
    "value_dict = {}\n",
    "for node in initially_infected:\n",
    "    value_dict[node] = \"infected\"\n",
    "\n",
    "nx.set_node_attributes(G, \"status\", value_dict)"
   ]
  },
  {
   "cell_type": "code",
   "execution_count": 90,
   "metadata": {
    "collapsed": false
   },
   "outputs": [],
   "source": [
    "def print_stat_inf(G, display=False, freq = False):\n",
    "    number_of_nodes = G.number_of_nodes()\n",
    "    number_infected = 0\n",
    "    \n",
    "    for node, data in G.nodes_iter(data=True):\n",
    "        if data[\"status\"] == \"infected\":\n",
    "            number_infected += 1\n",
    "    if display==True:\n",
    "        print(\"Number of infected : \",number_infected)\n",
    "        print(number_infected/number_of_nodes * 100,\"% of the population infected.\")\n",
    "        \n",
    "    if freq == False:\n",
    "        res = number_infected\n",
    "        \n",
    "    elif freq == True:\n",
    "        res = number_infected / number_of_nodes\n",
    "    return res"
   ]
  },
  {
   "cell_type": "code",
   "execution_count": 91,
   "metadata": {
    "collapsed": false
   },
   "outputs": [
    {
     "name": "stdout",
     "output_type": "stream",
     "text": [
      "Number of infected :  242\n",
      "1.4465032875074717 % of the population infected.\n"
     ]
    }
   ],
   "source": [
    "number_infected = print_stat_inf(G, display=True)"
   ]
  },
  {
   "cell_type": "code",
   "execution_count": 92,
   "metadata": {
    "collapsed": false,
    "deletable": true,
    "editable": true
   },
   "outputs": [
    {
     "name": "stdout",
     "output_type": "stream",
     "text": [
      "Added  9000  edges\n",
      "Added  12000  edges\n",
      "Added  15000  edges\n",
      "Added  18000  edges\n",
      "Added  21000  edges\n",
      "Added  24000  edges\n",
      "Added  27000  edges\n",
      "Added  30000  edges\n",
      "CPU times: user 1min 27s, sys: 327 ms, total: 1min 27s\n",
      "Wall time: 1min 27s\n"
     ]
    }
   ],
   "source": [
    "%%time\n",
    "\n",
    "date_list = []\n",
    "infected_list = []\n",
    "\n",
    "for index, row in df_trunc.iterrows():\n",
    "    if index % 3000 == 0:\n",
    "        print(\"Added \", index, \" edges\")\n",
    "    \n",
    "    #extract data from network\n",
    "    female_id = row[\"female_id\"]\n",
    "    male_id = row[\"male_id\"]\n",
    "    status_male = G.node[male_id][\"status\"]\n",
    "    status_female = G.node[female_id][\"status\"]\n",
    "    date = row[\"date\"]\n",
    "    \n",
    "    #check for transmission with proba_transmission\n",
    "    if (status_male==\"infected\") and (status_female==\"susceptible\"):\n",
    "        toss = random.uniform(0, 1)\n",
    "        if toss < proba_transmission:\n",
    "            G.node[female_id][\"status\"] = \"infected\"\n",
    "    \n",
    "    elif (status_female==\"infected\") and (status_male==\"susceptible\"):\n",
    "        toss = random.uniform(0, 1)\n",
    "        if toss < proba_transmission:\n",
    "            G.node[male_id][\"status\"] = \"infected\"\n",
    "    \n",
    "    number_infected = print_stat_inf(G, freq = True)\n",
    "    date_list.append(date)\n",
    "    infected_list.append(number_infected)\n",
    "    \n",
    "    \n",
    "    G.add_edge(row[\"female_id\"], row[\"male_id\"])\n",
    "    \n"
   ]
  },
  {
   "cell_type": "code",
   "execution_count": 93,
   "metadata": {
    "collapsed": true
   },
   "outputs": [],
   "source": [
    "df_infection = pd.DataFrame()\n",
    "df_infection[\"date\"] = date_list\n",
    "df_infection[\"nb_infecte\"] = infected_list"
   ]
  },
  {
   "cell_type": "code",
   "execution_count": 94,
   "metadata": {
    "collapsed": true
   },
   "outputs": [],
   "source": [
    "groupby_date = df_infection.groupby(\"date\").max()"
   ]
  },
  {
   "cell_type": "code",
   "execution_count": 95,
   "metadata": {
    "collapsed": false
   },
   "outputs": [
    {
     "data": {
      "text/html": [
       "<div>\n",
       "<table border=\"1\" class=\"dataframe\">\n",
       "  <thead>\n",
       "    <tr style=\"text-align: right;\">\n",
       "      <th></th>\n",
       "      <th>nb_infecte</th>\n",
       "    </tr>\n",
       "    <tr>\n",
       "      <th>date</th>\n",
       "      <th></th>\n",
       "    </tr>\n",
       "  </thead>\n",
       "  <tbody>\n",
       "    <tr>\n",
       "      <th>1001</th>\n",
       "      <td>0.014465</td>\n",
       "    </tr>\n",
       "    <tr>\n",
       "      <th>1002</th>\n",
       "      <td>0.014465</td>\n",
       "    </tr>\n",
       "    <tr>\n",
       "      <th>1003</th>\n",
       "      <td>0.014465</td>\n",
       "    </tr>\n",
       "    <tr>\n",
       "      <th>1004</th>\n",
       "      <td>0.014465</td>\n",
       "    </tr>\n",
       "    <tr>\n",
       "      <th>1005</th>\n",
       "      <td>0.014465</td>\n",
       "    </tr>\n",
       "    <tr>\n",
       "      <th>1006</th>\n",
       "      <td>0.014465</td>\n",
       "    </tr>\n",
       "    <tr>\n",
       "      <th>1007</th>\n",
       "      <td>0.014465</td>\n",
       "    </tr>\n",
       "    <tr>\n",
       "      <th>1008</th>\n",
       "      <td>0.014465</td>\n",
       "    </tr>\n",
       "    <tr>\n",
       "      <th>1009</th>\n",
       "      <td>0.014525</td>\n",
       "    </tr>\n",
       "    <tr>\n",
       "      <th>1010</th>\n",
       "      <td>0.014525</td>\n",
       "    </tr>\n",
       "    <tr>\n",
       "      <th>1011</th>\n",
       "      <td>0.014644</td>\n",
       "    </tr>\n",
       "    <tr>\n",
       "      <th>1012</th>\n",
       "      <td>0.014644</td>\n",
       "    </tr>\n",
       "    <tr>\n",
       "      <th>1013</th>\n",
       "      <td>0.014764</td>\n",
       "    </tr>\n",
       "    <tr>\n",
       "      <th>1014</th>\n",
       "      <td>0.014824</td>\n",
       "    </tr>\n",
       "    <tr>\n",
       "      <th>1015</th>\n",
       "      <td>0.014824</td>\n",
       "    </tr>\n",
       "    <tr>\n",
       "      <th>1016</th>\n",
       "      <td>0.014824</td>\n",
       "    </tr>\n",
       "    <tr>\n",
       "      <th>1017</th>\n",
       "      <td>0.014824</td>\n",
       "    </tr>\n",
       "    <tr>\n",
       "      <th>1018</th>\n",
       "      <td>0.014883</td>\n",
       "    </tr>\n",
       "    <tr>\n",
       "      <th>1019</th>\n",
       "      <td>0.014943</td>\n",
       "    </tr>\n",
       "    <tr>\n",
       "      <th>1020</th>\n",
       "      <td>0.014943</td>\n",
       "    </tr>\n",
       "    <tr>\n",
       "      <th>1021</th>\n",
       "      <td>0.015003</td>\n",
       "    </tr>\n",
       "    <tr>\n",
       "      <th>1022</th>\n",
       "      <td>0.015063</td>\n",
       "    </tr>\n",
       "    <tr>\n",
       "      <th>1023</th>\n",
       "      <td>0.015182</td>\n",
       "    </tr>\n",
       "    <tr>\n",
       "      <th>1024</th>\n",
       "      <td>0.015242</td>\n",
       "    </tr>\n",
       "    <tr>\n",
       "      <th>1025</th>\n",
       "      <td>0.015362</td>\n",
       "    </tr>\n",
       "    <tr>\n",
       "      <th>1026</th>\n",
       "      <td>0.015481</td>\n",
       "    </tr>\n",
       "    <tr>\n",
       "      <th>1027</th>\n",
       "      <td>0.015660</td>\n",
       "    </tr>\n",
       "    <tr>\n",
       "      <th>1028</th>\n",
       "      <td>0.015780</td>\n",
       "    </tr>\n",
       "    <tr>\n",
       "      <th>1029</th>\n",
       "      <td>0.015959</td>\n",
       "    </tr>\n",
       "    <tr>\n",
       "      <th>1030</th>\n",
       "      <td>0.016079</td>\n",
       "    </tr>\n",
       "    <tr>\n",
       "      <th>...</th>\n",
       "      <td>...</td>\n",
       "    </tr>\n",
       "    <tr>\n",
       "      <th>1770</th>\n",
       "      <td>0.455768</td>\n",
       "    </tr>\n",
       "    <tr>\n",
       "      <th>1771</th>\n",
       "      <td>0.456545</td>\n",
       "    </tr>\n",
       "    <tr>\n",
       "      <th>1772</th>\n",
       "      <td>0.457143</td>\n",
       "    </tr>\n",
       "    <tr>\n",
       "      <th>1773</th>\n",
       "      <td>0.457382</td>\n",
       "    </tr>\n",
       "    <tr>\n",
       "      <th>1774</th>\n",
       "      <td>0.458159</td>\n",
       "    </tr>\n",
       "    <tr>\n",
       "      <th>1775</th>\n",
       "      <td>0.458697</td>\n",
       "    </tr>\n",
       "    <tr>\n",
       "      <th>1776</th>\n",
       "      <td>0.459354</td>\n",
       "    </tr>\n",
       "    <tr>\n",
       "      <th>1777</th>\n",
       "      <td>0.459713</td>\n",
       "    </tr>\n",
       "    <tr>\n",
       "      <th>1778</th>\n",
       "      <td>0.460371</td>\n",
       "    </tr>\n",
       "    <tr>\n",
       "      <th>1779</th>\n",
       "      <td>0.460729</td>\n",
       "    </tr>\n",
       "    <tr>\n",
       "      <th>1780</th>\n",
       "      <td>0.461088</td>\n",
       "    </tr>\n",
       "    <tr>\n",
       "      <th>1781</th>\n",
       "      <td>0.461387</td>\n",
       "    </tr>\n",
       "    <tr>\n",
       "      <th>1782</th>\n",
       "      <td>0.461745</td>\n",
       "    </tr>\n",
       "    <tr>\n",
       "      <th>1783</th>\n",
       "      <td>0.462463</td>\n",
       "    </tr>\n",
       "    <tr>\n",
       "      <th>1784</th>\n",
       "      <td>0.463479</td>\n",
       "    </tr>\n",
       "    <tr>\n",
       "      <th>1785</th>\n",
       "      <td>0.463897</td>\n",
       "    </tr>\n",
       "    <tr>\n",
       "      <th>1786</th>\n",
       "      <td>0.464316</td>\n",
       "    </tr>\n",
       "    <tr>\n",
       "      <th>1787</th>\n",
       "      <td>0.464555</td>\n",
       "    </tr>\n",
       "    <tr>\n",
       "      <th>1788</th>\n",
       "      <td>0.465392</td>\n",
       "    </tr>\n",
       "    <tr>\n",
       "      <th>1789</th>\n",
       "      <td>0.465870</td>\n",
       "    </tr>\n",
       "    <tr>\n",
       "      <th>1790</th>\n",
       "      <td>0.466587</td>\n",
       "    </tr>\n",
       "    <tr>\n",
       "      <th>1791</th>\n",
       "      <td>0.467424</td>\n",
       "    </tr>\n",
       "    <tr>\n",
       "      <th>1792</th>\n",
       "      <td>0.468799</td>\n",
       "    </tr>\n",
       "    <tr>\n",
       "      <th>1793</th>\n",
       "      <td>0.469516</td>\n",
       "    </tr>\n",
       "    <tr>\n",
       "      <th>1794</th>\n",
       "      <td>0.469635</td>\n",
       "    </tr>\n",
       "    <tr>\n",
       "      <th>1795</th>\n",
       "      <td>0.470054</td>\n",
       "    </tr>\n",
       "    <tr>\n",
       "      <th>1796</th>\n",
       "      <td>0.470831</td>\n",
       "    </tr>\n",
       "    <tr>\n",
       "      <th>1797</th>\n",
       "      <td>0.471429</td>\n",
       "    </tr>\n",
       "    <tr>\n",
       "      <th>1798</th>\n",
       "      <td>0.472624</td>\n",
       "    </tr>\n",
       "    <tr>\n",
       "      <th>1799</th>\n",
       "      <td>0.473521</td>\n",
       "    </tr>\n",
       "  </tbody>\n",
       "</table>\n",
       "<p>799 rows × 1 columns</p>\n",
       "</div>"
      ],
      "text/plain": [
       "      nb_infecte\n",
       "date            \n",
       "1001    0.014465\n",
       "1002    0.014465\n",
       "1003    0.014465\n",
       "1004    0.014465\n",
       "1005    0.014465\n",
       "1006    0.014465\n",
       "1007    0.014465\n",
       "1008    0.014465\n",
       "1009    0.014525\n",
       "1010    0.014525\n",
       "1011    0.014644\n",
       "1012    0.014644\n",
       "1013    0.014764\n",
       "1014    0.014824\n",
       "1015    0.014824\n",
       "1016    0.014824\n",
       "1017    0.014824\n",
       "1018    0.014883\n",
       "1019    0.014943\n",
       "1020    0.014943\n",
       "1021    0.015003\n",
       "1022    0.015063\n",
       "1023    0.015182\n",
       "1024    0.015242\n",
       "1025    0.015362\n",
       "1026    0.015481\n",
       "1027    0.015660\n",
       "1028    0.015780\n",
       "1029    0.015959\n",
       "1030    0.016079\n",
       "...          ...\n",
       "1770    0.455768\n",
       "1771    0.456545\n",
       "1772    0.457143\n",
       "1773    0.457382\n",
       "1774    0.458159\n",
       "1775    0.458697\n",
       "1776    0.459354\n",
       "1777    0.459713\n",
       "1778    0.460371\n",
       "1779    0.460729\n",
       "1780    0.461088\n",
       "1781    0.461387\n",
       "1782    0.461745\n",
       "1783    0.462463\n",
       "1784    0.463479\n",
       "1785    0.463897\n",
       "1786    0.464316\n",
       "1787    0.464555\n",
       "1788    0.465392\n",
       "1789    0.465870\n",
       "1790    0.466587\n",
       "1791    0.467424\n",
       "1792    0.468799\n",
       "1793    0.469516\n",
       "1794    0.469635\n",
       "1795    0.470054\n",
       "1796    0.470831\n",
       "1797    0.471429\n",
       "1798    0.472624\n",
       "1799    0.473521\n",
       "\n",
       "[799 rows x 1 columns]"
      ]
     },
     "execution_count": 95,
     "metadata": {},
     "output_type": "execute_result"
    }
   ],
   "source": [
    "groupby_date"
   ]
  },
  {
   "cell_type": "code",
   "execution_count": 96,
   "metadata": {
    "collapsed": false
   },
   "outputs": [
    {
     "data": {
      "text/plain": [
       "<matplotlib.legend.Legend at 0x10fb739e8>"
      ]
     },
     "execution_count": 96,
     "metadata": {},
     "output_type": "execute_result"
    },
    {
     "data": {
      "image/png": "[encoded data removed]",
      "text/plain": [
       "<matplotlib.figure.Figure at 0x10eeb8ef0>"
      ]
     },
     "metadata": {},
     "output_type": "display_data"
    }
   ],
   "source": [
    "plt.figure(figsize=(12,8))\n",
    "plt.title(\"Infection over time\")\n",
    "plt.plot(groupby_date.index, groupby_date[\"nb_infecte\"], label=\"number of infected people\")\n",
    "plt.ylabel(\"Number of infected\")\n",
    "plt.xlabel(\"Date\")\n",
    "#plt.axhline(y=G.number_of_nodes(), xmin=0, xmax=3000, linewidth=2, linestyle=\"dashed\",color = 'r', label=\"Total population\")\n",
    "plt.legend(loc=4)"
   ]
  },
  {
   "cell_type": "markdown",
   "metadata": {},
   "source": [
    "## SIR model"
   ]
  },
  {
   "cell_type": "code",
   "execution_count": null,
   "metadata": {
    "collapsed": true
   },
   "outputs": [],
   "source": [
    "G = nx.MultiGraph()"
   ]
  }
 ],
 "metadata": {
  "kernelspec": {
   "display_name": "Python 3",
   "language": "python",
   "name": "python3"
  },
  "language_info": {
   "codemirror_mode": {
    "name": "ipython",
    "version": 3
   },
   "file_extension": ".py",
   "mimetype": "text/x-python",
   "name": "python",
   "nbconvert_exporter": "python",
   "pygments_lexer": "ipython3",
   "version": "3.5.2"
  }
 },
 "nbformat": 4,
 "nbformat_minor": 2
}
