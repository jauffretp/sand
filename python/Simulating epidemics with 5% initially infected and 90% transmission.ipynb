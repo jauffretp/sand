{
 "cells": [
  {
   "cell_type": "markdown",
   "metadata": {
    "deletable": true,
    "editable": true
   },
   "source": [
    "### List of dependencies\n",
    "- networkx\n",
    "- pandas\n",
    "- numpy\n",
    "- matplotlib\n",
    "- community : you can download it [here](https://bitbucket.org/taynaud/python-louvain/get/6a3696fdce57.zip), then just do  : `sudo python3 setup.py install`\n",
    " "
   ]
  },
  {
   "cell_type": "code",
   "execution_count": 1,
   "metadata": {
    "collapsed": false,
    "deletable": true,
    "editable": true
   },
   "outputs": [],
   "source": [
    "import pandas as pd\n",
    "import numpy as np\n",
    "import community\n",
    "\n",
    "#import seaborn as sns\n",
    "import matplotlib.pyplot as plt\n",
    "import networkx as nx\n",
    "import random\n",
    "import community\n",
    "%matplotlib inline"
   ]
  },
  {
   "cell_type": "code",
   "execution_count": 2,
   "metadata": {
    "collapsed": true,
    "deletable": true,
    "editable": true
   },
   "outputs": [],
   "source": [
    "df = pd.read_csv(\"../data/dataset.CSV\", sep=\";\")"
   ]
  },
  {
   "cell_type": "code",
   "execution_count": 3,
   "metadata": {
    "collapsed": false,
    "deletable": true,
    "editable": true
   },
   "outputs": [
    {
     "data": {
      "text/html": [
       "<div>\n",
       "<table border=\"1\" class=\"dataframe\">\n",
       "  <thead>\n",
       "    <tr style=\"text-align: right;\">\n",
       "      <th></th>\n",
       "      <th>female_id</th>\n",
       "      <th>male_id</th>\n",
       "      <th>date</th>\n",
       "      <th>female_grade</th>\n",
       "      <th>anal</th>\n",
       "      <th>oral</th>\n",
       "      <th>kiss</th>\n",
       "    </tr>\n",
       "  </thead>\n",
       "  <tbody>\n",
       "    <tr>\n",
       "      <th>count</th>\n",
       "      <td>50632.000000</td>\n",
       "      <td>50632.000000</td>\n",
       "      <td>50632.000000</td>\n",
       "      <td>50632.000000</td>\n",
       "      <td>50632.000000</td>\n",
       "      <td>50632.000000</td>\n",
       "      <td>50632.000000</td>\n",
       "    </tr>\n",
       "    <tr>\n",
       "      <th>mean</th>\n",
       "      <td>6674.964074</td>\n",
       "      <td>6497.960045</td>\n",
       "      <td>1561.542878</td>\n",
       "      <td>0.742692</td>\n",
       "      <td>0.300758</td>\n",
       "      <td>0.665192</td>\n",
       "      <td>0.629957</td>\n",
       "    </tr>\n",
       "    <tr>\n",
       "      <th>std</th>\n",
       "      <td>4599.308794</td>\n",
       "      <td>4544.051880</td>\n",
       "      <td>444.996668</td>\n",
       "      <td>0.604601</td>\n",
       "      <td>0.817198</td>\n",
       "      <td>0.696622</td>\n",
       "      <td>0.696743</td>\n",
       "    </tr>\n",
       "    <tr>\n",
       "      <th>min</th>\n",
       "      <td>0.000000</td>\n",
       "      <td>1.000000</td>\n",
       "      <td>0.000000</td>\n",
       "      <td>-1.000000</td>\n",
       "      <td>-1.000000</td>\n",
       "      <td>-1.000000</td>\n",
       "      <td>-1.000000</td>\n",
       "    </tr>\n",
       "    <tr>\n",
       "      <th>25%</th>\n",
       "      <td>2813.000000</td>\n",
       "      <td>2422.250000</td>\n",
       "      <td>1238.000000</td>\n",
       "      <td>1.000000</td>\n",
       "      <td>0.000000</td>\n",
       "      <td>1.000000</td>\n",
       "      <td>1.000000</td>\n",
       "    </tr>\n",
       "    <tr>\n",
       "      <th>50%</th>\n",
       "      <td>6235.000000</td>\n",
       "      <td>5766.000000</td>\n",
       "      <td>1617.000000</td>\n",
       "      <td>1.000000</td>\n",
       "      <td>1.000000</td>\n",
       "      <td>1.000000</td>\n",
       "      <td>1.000000</td>\n",
       "    </tr>\n",
       "    <tr>\n",
       "      <th>75%</th>\n",
       "      <td>10496.000000</td>\n",
       "      <td>10111.250000</td>\n",
       "      <td>1933.000000</td>\n",
       "      <td>1.000000</td>\n",
       "      <td>1.000000</td>\n",
       "      <td>1.000000</td>\n",
       "      <td>1.000000</td>\n",
       "    </tr>\n",
       "    <tr>\n",
       "      <th>max</th>\n",
       "      <td>16728.000000</td>\n",
       "      <td>16729.000000</td>\n",
       "      <td>2232.000000</td>\n",
       "      <td>1.000000</td>\n",
       "      <td>1.000000</td>\n",
       "      <td>1.000000</td>\n",
       "      <td>1.000000</td>\n",
       "    </tr>\n",
       "  </tbody>\n",
       "</table>\n",
       "</div>"
      ],
      "text/plain": [
       "          female_id       male_id          date  female_grade          anal  \\\n",
       "count  50632.000000  50632.000000  50632.000000  50632.000000  50632.000000   \n",
       "mean    6674.964074   6497.960045   1561.542878      0.742692      0.300758   \n",
       "std     4599.308794   4544.051880    444.996668      0.604601      0.817198   \n",
       "min        0.000000      1.000000      0.000000     -1.000000     -1.000000   \n",
       "25%     2813.000000   2422.250000   1238.000000      1.000000      0.000000   \n",
       "50%     6235.000000   5766.000000   1617.000000      1.000000      1.000000   \n",
       "75%    10496.000000  10111.250000   1933.000000      1.000000      1.000000   \n",
       "max    16728.000000  16729.000000   2232.000000      1.000000      1.000000   \n",
       "\n",
       "               oral          kiss  \n",
       "count  50632.000000  50632.000000  \n",
       "mean       0.665192      0.629957  \n",
       "std        0.696622      0.696743  \n",
       "min       -1.000000     -1.000000  \n",
       "25%        1.000000      1.000000  \n",
       "50%        1.000000      1.000000  \n",
       "75%        1.000000      1.000000  \n",
       "max        1.000000      1.000000  "
      ]
     },
     "execution_count": 3,
     "metadata": {},
     "output_type": "execute_result"
    }
   ],
   "source": [
    "df.describe()"
   ]
  },
  {
   "cell_type": "markdown",
   "metadata": {
    "deletable": true,
    "editable": true
   },
   "source": [
    "### We add an offset to male id in order to not have the same ids in male and female "
   ]
  },
  {
   "cell_type": "code",
   "execution_count": 4,
   "metadata": {
    "collapsed": false,
    "deletable": true,
    "editable": true
   },
   "outputs": [],
   "source": [
    "offset_male_id = max(df[\"female_id\"]) + 10000\n",
    "df[\"male_id\"] = df[\"male_id\"] + offset_male_id"
   ]
  },
  {
   "cell_type": "markdown",
   "metadata": {
    "collapsed": true,
    "deletable": true,
    "editable": true
   },
   "source": [
    "### Let's create the graph, we are going to use Multi Graph because we may have multiple edges between the same escort and client"
   ]
  },
  {
   "cell_type": "code",
   "execution_count": 5,
   "metadata": {
    "collapsed": true,
    "deletable": true,
    "editable": true
   },
   "outputs": [],
   "source": [
    "G = nx.MultiGraph()"
   ]
  },
  {
   "cell_type": "code",
   "execution_count": 6,
   "metadata": {
    "collapsed": true,
    "deletable": true,
    "editable": true
   },
   "outputs": [],
   "source": [
    "list_male_id = df[\"male_id\"].unique()\n",
    "list_female_id = df[\"female_id\"].unique()\n"
   ]
  },
  {
   "cell_type": "markdown",
   "metadata": {
    "deletable": true,
    "editable": true
   },
   "source": [
    "### Be sure that there is no intersection between ids"
   ]
  },
  {
   "cell_type": "code",
   "execution_count": 7,
   "metadata": {
    "collapsed": false,
    "deletable": true,
    "editable": true
   },
   "outputs": [
    {
     "data": {
      "text/plain": [
       "0"
      ]
     },
     "execution_count": 7,
     "metadata": {},
     "output_type": "execute_result"
    }
   ],
   "source": [
    "len(set(list_male_id).intersection(set(list_female_id)))"
   ]
  },
  {
   "cell_type": "code",
   "execution_count": 8,
   "metadata": {
    "collapsed": false,
    "deletable": true,
    "editable": true
   },
   "outputs": [
    {
     "name": "stdout",
     "output_type": "stream",
     "text": [
      "10106  different clients\n"
     ]
    }
   ],
   "source": [
    "print(len(list_male_id), \" different clients\")"
   ]
  },
  {
   "cell_type": "code",
   "execution_count": 9,
   "metadata": {
    "collapsed": false,
    "deletable": true,
    "editable": true
   },
   "outputs": [
    {
     "name": "stdout",
     "output_type": "stream",
     "text": [
      "6624  different escort\n"
     ]
    }
   ],
   "source": [
    "print(len(list_female_id), \" different escort\")"
   ]
  },
  {
   "cell_type": "code",
   "execution_count": 10,
   "metadata": {
    "collapsed": true,
    "deletable": true,
    "editable": true
   },
   "outputs": [],
   "source": [
    "full_node_list = list(list_female_id) + list(list_male_id)"
   ]
  },
  {
   "cell_type": "code",
   "execution_count": 11,
   "metadata": {
    "collapsed": true,
    "deletable": true,
    "editable": true
   },
   "outputs": [],
   "source": [
    "G.add_nodes_from(list_male_id, role=\"client\",status=\"clean\")\n",
    "G.add_nodes_from(list_female_id, role=\"escort\",status=\"clean\")"
   ]
  },
  {
   "cell_type": "markdown",
   "metadata": {
    "deletable": true,
    "editable": true
   },
   "source": [
    "### We simulate a basic model of infection"
   ]
  },
  {
   "cell_type": "code",
   "execution_count": 12,
   "metadata": {
    "collapsed": false,
    "deletable": true,
    "editable": true
   },
   "outputs": [],
   "source": [
    "proba_transmission = 0.9\n",
    "coeff_initial_infected = 0.05\n",
    "n_initially_infected = int(G.number_of_nodes() * coeff_initial_infected)\n",
    "initially_infected = random.sample(population=full_node_list, k=n_initially_infected)\n",
    "\n",
    "\n",
    "value_dict = {}\n",
    "for node in initially_infected:\n",
    "    value_dict[node] = \"infected\"\n",
    "\n",
    "nx.set_node_attributes(G, \"status\", value_dict)"
   ]
  },
  {
   "cell_type": "code",
   "execution_count": 13,
   "metadata": {
    "collapsed": false,
    "deletable": true,
    "editable": true
   },
   "outputs": [],
   "source": [
    "def print_stat_inf(G, display=False):\n",
    "    number_of_nodes = G.number_of_nodes()\n",
    "    number_infected = 0\n",
    "    \n",
    "    for node, data in G.nodes_iter(data=True):\n",
    "        if data[\"status\"] == \"infected\":\n",
    "            number_infected += 1\n",
    "    if display==True:\n",
    "        print(\"Number of infected : \",number_infected)\n",
    "        print(number_infected/number_of_nodes * 100,\" % of the population infected\")\n",
    "    return number_infected"
   ]
  },
  {
   "cell_type": "code",
   "execution_count": 14,
   "metadata": {
    "collapsed": false,
    "deletable": true,
    "editable": true
   },
   "outputs": [
    {
     "name": "stdout",
     "output_type": "stream",
     "text": [
      "Number of infected :  836\n",
      "4.997011356843993  % of the population infected\n"
     ]
    }
   ],
   "source": [
    "number_infected = print_stat_inf(G, display=True)"
   ]
  },
  {
   "cell_type": "code",
   "execution_count": 15,
   "metadata": {
    "collapsed": false,
    "deletable": true,
    "editable": true
   },
   "outputs": [
    {
     "name": "stdout",
     "output_type": "stream",
     "text": [
      "Added  0  edges\n",
      "Added  3000  edges\n",
      "Added  6000  edges\n",
      "Added  9000  edges\n",
      "Added  12000  edges\n",
      "Added  15000  edges\n",
      "Added  18000  edges\n",
      "Added  21000  edges\n",
      "Added  24000  edges\n",
      "Added  27000  edges\n",
      "Added  30000  edges\n",
      "Added  33000  edges\n",
      "Added  36000  edges\n",
      "Added  39000  edges\n",
      "Added  42000  edges\n",
      "Added  45000  edges\n",
      "Added  48000  edges\n",
      "CPU times: user 2min 50s, sys: 184 ms, total: 2min 50s\n",
      "Wall time: 2min 50s\n"
     ]
    }
   ],
   "source": [
    "%%time\n",
    "\n",
    "date_list = []\n",
    "infected_list = []\n",
    "\n",
    "for index, row in df.iterrows():\n",
    "    if index % 3000 == 0:\n",
    "        print(\"Added \", index, \" edges\")\n",
    "    \n",
    "    #extract data from network\n",
    "    female_id = row[\"female_id\"]\n",
    "    male_id = row[\"male_id\"]\n",
    "    status_male = G.node[male_id][\"status\"]\n",
    "    status_female = G.node[female_id][\"status\"]\n",
    "    date = row[\"date\"]\n",
    "    \n",
    "    #check for transmission with proba_transmission\n",
    "    if (status_male==\"infected\") and (status_female==\"clean\"):\n",
    "        toss = random.uniform(0, 1)\n",
    "        if toss < proba_transmission:\n",
    "            G.node[female_id][\"status\"] = \"infected\"\n",
    "    \n",
    "    elif (status_female==\"infected\") and (status_male==\"clean\"):\n",
    "        toss = random.uniform(0, 1)\n",
    "        if toss < proba_transmission:\n",
    "            G.node[male_id][\"status\"] = \"infected\"\n",
    "    \n",
    "    number_infected = print_stat_inf(G)\n",
    "    date_list.append(date)\n",
    "    infected_list.append(number_infected)\n",
    "    \n",
    "    \n",
    "    G.add_edge(row[\"female_id\"], row[\"male_id\"])\n",
    "    \n"
   ]
  },
  {
   "cell_type": "code",
   "execution_count": 16,
   "metadata": {
    "collapsed": true,
    "deletable": true,
    "editable": true
   },
   "outputs": [],
   "source": [
    "df_infection = pd.DataFrame()\n",
    "df_infection[\"date\"] = date_list\n",
    "df_infection[\"nb_infecte\"] = infected_list"
   ]
  },
  {
   "cell_type": "code",
   "execution_count": 17,
   "metadata": {
    "collapsed": true,
    "deletable": true,
    "editable": true
   },
   "outputs": [],
   "source": [
    "groupby_date = df_infection.groupby(\"date\").max()"
   ]
  },
  {
   "cell_type": "code",
   "execution_count": 18,
   "metadata": {
    "collapsed": false,
    "deletable": true,
    "editable": true
   },
   "outputs": [
    {
     "data": {
      "text/html": [
       "<div>\n",
       "<table border=\"1\" class=\"dataframe\">\n",
       "  <thead>\n",
       "    <tr style=\"text-align: right;\">\n",
       "      <th></th>\n",
       "      <th>nb_infecte</th>\n",
       "    </tr>\n",
       "    <tr>\n",
       "      <th>date</th>\n",
       "      <th></th>\n",
       "    </tr>\n",
       "  </thead>\n",
       "  <tbody>\n",
       "    <tr>\n",
       "      <th>0</th>\n",
       "      <td>836</td>\n",
       "    </tr>\n",
       "    <tr>\n",
       "      <th>21</th>\n",
       "      <td>836</td>\n",
       "    </tr>\n",
       "    <tr>\n",
       "      <th>47</th>\n",
       "      <td>836</td>\n",
       "    </tr>\n",
       "    <tr>\n",
       "      <th>73</th>\n",
       "      <td>836</td>\n",
       "    </tr>\n",
       "    <tr>\n",
       "      <th>105</th>\n",
       "      <td>836</td>\n",
       "    </tr>\n",
       "    <tr>\n",
       "      <th>121</th>\n",
       "      <td>836</td>\n",
       "    </tr>\n",
       "    <tr>\n",
       "      <th>124</th>\n",
       "      <td>836</td>\n",
       "    </tr>\n",
       "    <tr>\n",
       "      <th>126</th>\n",
       "      <td>837</td>\n",
       "    </tr>\n",
       "    <tr>\n",
       "      <th>168</th>\n",
       "      <td>837</td>\n",
       "    </tr>\n",
       "    <tr>\n",
       "      <th>171</th>\n",
       "      <td>837</td>\n",
       "    </tr>\n",
       "    <tr>\n",
       "      <th>172</th>\n",
       "      <td>838</td>\n",
       "    </tr>\n",
       "    <tr>\n",
       "      <th>179</th>\n",
       "      <td>838</td>\n",
       "    </tr>\n",
       "    <tr>\n",
       "      <th>184</th>\n",
       "      <td>838</td>\n",
       "    </tr>\n",
       "    <tr>\n",
       "      <th>185</th>\n",
       "      <td>838</td>\n",
       "    </tr>\n",
       "    <tr>\n",
       "      <th>192</th>\n",
       "      <td>838</td>\n",
       "    </tr>\n",
       "    <tr>\n",
       "      <th>193</th>\n",
       "      <td>839</td>\n",
       "    </tr>\n",
       "    <tr>\n",
       "      <th>194</th>\n",
       "      <td>839</td>\n",
       "    </tr>\n",
       "    <tr>\n",
       "      <th>204</th>\n",
       "      <td>839</td>\n",
       "    </tr>\n",
       "    <tr>\n",
       "      <th>206</th>\n",
       "      <td>839</td>\n",
       "    </tr>\n",
       "    <tr>\n",
       "      <th>207</th>\n",
       "      <td>839</td>\n",
       "    </tr>\n",
       "    <tr>\n",
       "      <th>216</th>\n",
       "      <td>840</td>\n",
       "    </tr>\n",
       "    <tr>\n",
       "      <th>217</th>\n",
       "      <td>840</td>\n",
       "    </tr>\n",
       "    <tr>\n",
       "      <th>223</th>\n",
       "      <td>841</td>\n",
       "    </tr>\n",
       "    <tr>\n",
       "      <th>229</th>\n",
       "      <td>841</td>\n",
       "    </tr>\n",
       "    <tr>\n",
       "      <th>238</th>\n",
       "      <td>841</td>\n",
       "    </tr>\n",
       "    <tr>\n",
       "      <th>243</th>\n",
       "      <td>841</td>\n",
       "    </tr>\n",
       "    <tr>\n",
       "      <th>244</th>\n",
       "      <td>841</td>\n",
       "    </tr>\n",
       "    <tr>\n",
       "      <th>245</th>\n",
       "      <td>842</td>\n",
       "    </tr>\n",
       "    <tr>\n",
       "      <th>250</th>\n",
       "      <td>842</td>\n",
       "    </tr>\n",
       "    <tr>\n",
       "      <th>252</th>\n",
       "      <td>843</td>\n",
       "    </tr>\n",
       "    <tr>\n",
       "      <th>...</th>\n",
       "      <td>...</td>\n",
       "    </tr>\n",
       "    <tr>\n",
       "      <th>2200</th>\n",
       "      <td>13347</td>\n",
       "    </tr>\n",
       "    <tr>\n",
       "      <th>2201</th>\n",
       "      <td>13361</td>\n",
       "    </tr>\n",
       "    <tr>\n",
       "      <th>2202</th>\n",
       "      <td>13373</td>\n",
       "    </tr>\n",
       "    <tr>\n",
       "      <th>2203</th>\n",
       "      <td>13387</td>\n",
       "    </tr>\n",
       "    <tr>\n",
       "      <th>2204</th>\n",
       "      <td>13401</td>\n",
       "    </tr>\n",
       "    <tr>\n",
       "      <th>2205</th>\n",
       "      <td>13408</td>\n",
       "    </tr>\n",
       "    <tr>\n",
       "      <th>2206</th>\n",
       "      <td>13411</td>\n",
       "    </tr>\n",
       "    <tr>\n",
       "      <th>2207</th>\n",
       "      <td>13425</td>\n",
       "    </tr>\n",
       "    <tr>\n",
       "      <th>2208</th>\n",
       "      <td>13440</td>\n",
       "    </tr>\n",
       "    <tr>\n",
       "      <th>2209</th>\n",
       "      <td>13448</td>\n",
       "    </tr>\n",
       "    <tr>\n",
       "      <th>2210</th>\n",
       "      <td>13462</td>\n",
       "    </tr>\n",
       "    <tr>\n",
       "      <th>2211</th>\n",
       "      <td>13473</td>\n",
       "    </tr>\n",
       "    <tr>\n",
       "      <th>2212</th>\n",
       "      <td>13480</td>\n",
       "    </tr>\n",
       "    <tr>\n",
       "      <th>2216</th>\n",
       "      <td>13480</td>\n",
       "    </tr>\n",
       "    <tr>\n",
       "      <th>2217</th>\n",
       "      <td>13505</td>\n",
       "    </tr>\n",
       "    <tr>\n",
       "      <th>2218</th>\n",
       "      <td>13527</td>\n",
       "    </tr>\n",
       "    <tr>\n",
       "      <th>2219</th>\n",
       "      <td>13536</td>\n",
       "    </tr>\n",
       "    <tr>\n",
       "      <th>2220</th>\n",
       "      <td>13545</td>\n",
       "    </tr>\n",
       "    <tr>\n",
       "      <th>2221</th>\n",
       "      <td>13559</td>\n",
       "    </tr>\n",
       "    <tr>\n",
       "      <th>2222</th>\n",
       "      <td>13568</td>\n",
       "    </tr>\n",
       "    <tr>\n",
       "      <th>2223</th>\n",
       "      <td>13582</td>\n",
       "    </tr>\n",
       "    <tr>\n",
       "      <th>2224</th>\n",
       "      <td>13597</td>\n",
       "    </tr>\n",
       "    <tr>\n",
       "      <th>2225</th>\n",
       "      <td>13610</td>\n",
       "    </tr>\n",
       "    <tr>\n",
       "      <th>2226</th>\n",
       "      <td>13618</td>\n",
       "    </tr>\n",
       "    <tr>\n",
       "      <th>2227</th>\n",
       "      <td>13632</td>\n",
       "    </tr>\n",
       "    <tr>\n",
       "      <th>2228</th>\n",
       "      <td>13641</td>\n",
       "    </tr>\n",
       "    <tr>\n",
       "      <th>2229</th>\n",
       "      <td>13655</td>\n",
       "    </tr>\n",
       "    <tr>\n",
       "      <th>2230</th>\n",
       "      <td>13664</td>\n",
       "    </tr>\n",
       "    <tr>\n",
       "      <th>2231</th>\n",
       "      <td>13672</td>\n",
       "    </tr>\n",
       "    <tr>\n",
       "      <th>2232</th>\n",
       "      <td>13672</td>\n",
       "    </tr>\n",
       "  </tbody>\n",
       "</table>\n",
       "<p>1915 rows × 1 columns</p>\n",
       "</div>"
      ],
      "text/plain": [
       "      nb_infecte\n",
       "date            \n",
       "0            836\n",
       "21           836\n",
       "47           836\n",
       "73           836\n",
       "105          836\n",
       "121          836\n",
       "124          836\n",
       "126          837\n",
       "168          837\n",
       "171          837\n",
       "172          838\n",
       "179          838\n",
       "184          838\n",
       "185          838\n",
       "192          838\n",
       "193          839\n",
       "194          839\n",
       "204          839\n",
       "206          839\n",
       "207          839\n",
       "216          840\n",
       "217          840\n",
       "223          841\n",
       "229          841\n",
       "238          841\n",
       "243          841\n",
       "244          841\n",
       "245          842\n",
       "250          842\n",
       "252          843\n",
       "...          ...\n",
       "2200       13347\n",
       "2201       13361\n",
       "2202       13373\n",
       "2203       13387\n",
       "2204       13401\n",
       "2205       13408\n",
       "2206       13411\n",
       "2207       13425\n",
       "2208       13440\n",
       "2209       13448\n",
       "2210       13462\n",
       "2211       13473\n",
       "2212       13480\n",
       "2216       13480\n",
       "2217       13505\n",
       "2218       13527\n",
       "2219       13536\n",
       "2220       13545\n",
       "2221       13559\n",
       "2222       13568\n",
       "2223       13582\n",
       "2224       13597\n",
       "2225       13610\n",
       "2226       13618\n",
       "2227       13632\n",
       "2228       13641\n",
       "2229       13655\n",
       "2230       13664\n",
       "2231       13672\n",
       "2232       13672\n",
       "\n",
       "[1915 rows x 1 columns]"
      ]
     },
     "execution_count": 18,
     "metadata": {},
     "output_type": "execute_result"
    }
   ],
   "source": [
    "groupby_date"
   ]
  },
  {
   "cell_type": "code",
   "execution_count": 19,
   "metadata": {
    "collapsed": false,
    "deletable": true,
    "editable": true
   },
   "outputs": [
    {
     "data": {
      "text/plain": [
       "<matplotlib.legend.Legend at 0x7f16a5f9b8d0>"
      ]
     },
     "execution_count": 19,
     "metadata": {},
     "output_type": "execute_result"
    },
    {
     "data": {
      "image/png": "[encoded data removed]",
      "text/plain": [
       "<matplotlib.figure.Figure at 0x7f16aebc5278>"
      ]
     },
     "metadata": {},
     "output_type": "display_data"
    }
   ],
   "source": [
    "plt.figure(figsize=(12,8))\n",
    "plt.title(\"Infection over time\")\n",
    "plt.plot(groupby_date.index, groupby_date[\"nb_infecte\"], label=\"number of infected people\")\n",
    "plt.ylabel(\"Number of infected\")\n",
    "plt.xlabel(\"Date\")\n",
    "plt.axhline(y=G.number_of_nodes(), xmin=0, xmax=3000, linewidth=2, linestyle=\"dashed\",color = 'r', label=\"Total population\")\n",
    "plt.legend(loc=4)"
   ]
  },
  {
   "cell_type": "code",
   "execution_count": 21,
   "metadata": {
    "collapsed": false
   },
   "outputs": [
    {
     "name": "stdout",
     "output_type": "stream",
     "text": [
      "Number of infected :  13672\n",
      "81.72145845786012  % of the population infected\n"
     ]
    },
    {
     "data": {
      "text/plain": [
       "13672"
      ]
     },
     "execution_count": 21,
     "metadata": {},
     "output_type": "execute_result"
    }
   ],
   "source": [
    "print_stat_inf(G, display=True)"
   ]
  }
 ],
 "metadata": {
  "kernelspec": {
   "display_name": "Python 3",
   "language": "python",
   "name": "python3"
  },
  "language_info": {
   "codemirror_mode": {
    "name": "ipython",
    "version": 3
   },
   "file_extension": ".py",
   "mimetype": "text/x-python",
   "name": "python",
   "nbconvert_exporter": "python",
   "pygments_lexer": "ipython3",
   "version": "3.5.2"
  }
 },
 "nbformat": 4,
 "nbformat_minor": 2
}
